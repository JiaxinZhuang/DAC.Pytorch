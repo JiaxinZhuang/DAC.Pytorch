{
 "cells": [
  {
   "cell_type": "code",
   "execution_count": 8,
   "metadata": {
    "ExecuteTime": {
     "end_time": "2019-06-14T09:23:28.481860Z",
     "start_time": "2019-06-14T09:23:28.456856Z"
    },
    "scrolled": false
   },
   "outputs": [
    {
     "name": "stdout",
     "output_type": "stream",
     "text": [
      "The autoreload extension is already loaded. To reload it, use:\n",
      "  %reload_ext autoreload\n"
     ]
    }
   ],
   "source": [
    "%load_ext autoreload\n",
    "%autoreload 2\n",
    "\n",
    "import sys\n",
    "sys.path.append(\"../src\")\n",
    "import os\n",
    "import torch\n",
    "import torchvision \n",
    "import h5py\n",
    "import torchvision.transforms as transforms\n",
    "import numpy as np\n",
    "import keras\n",
    "\n",
    "from dataset import get_mean_std\n",
    "\n",
    "from keras.datasets import mnist"
   ]
  },
  {
   "cell_type": "code",
   "execution_count": 9,
   "metadata": {
    "ExecuteTime": {
     "end_time": "2019-06-14T09:23:29.500186Z",
     "start_time": "2019-06-14T09:23:29.302475Z"
    }
   },
   "outputs": [],
   "source": [
    "(X_train, y_train), (X_test, y_test) = mnist.load_data()"
   ]
  },
  {
   "cell_type": "code",
   "execution_count": 11,
   "metadata": {
    "ExecuteTime": {
     "end_time": "2019-06-14T09:24:01.648764Z",
     "start_time": "2019-06-14T09:24:01.494993Z"
    }
   },
   "outputs": [],
   "source": [
    "img_channels, img_rows, img_cols = 1, 28, 28\n",
    "X_train = X_train.reshape(X_train.shape[0], img_channels, img_rows, img_cols)\n",
    "X_test = X_test.reshape(X_test.shape[0], img_channels, img_rows, img_cols)\n",
    "X_train = X_train.astype('float32')\n",
    "X_test = X_test.astype('float32')\n",
    "X_train /= 255.\n",
    "X_test /= 255.\n",
    "nb = min(1000,X_train.shape[0])\n",
    "X_train = np.vstack((X_train,X_test))\n",
    "y_true = np.hstack((y_train,y_test))\n",
    "y_true = y_true.astype('int64')"
   ]
  },
  {
   "cell_type": "code",
   "execution_count": 22,
   "metadata": {
    "ExecuteTime": {
     "end_time": "2019-06-14T09:26:01.161180Z",
     "start_time": "2019-06-14T09:26:01.139388Z"
    }
   },
   "outputs": [
    {
     "name": "stdout",
     "output_type": "stream",
     "text": [
      "(70000, 1, 28, 28)\n",
      "(70000,)\n"
     ]
    }
   ],
   "source": [
    "print(X_train.shape)\n",
    "print(y_true.shape)\n",
    "merge_data = X_train\n",
    "merge_targets = y_true"
   ]
  },
  {
   "cell_type": "code",
   "execution_count": 84,
   "metadata": {
    "ExecuteTime": {
     "end_time": "2019-06-12T12:14:02.724397Z",
     "start_time": "2019-06-12T12:14:02.679333Z"
    }
   },
   "outputs": [],
   "source": [
    "dataset1 = torchvision.datasets.MNIST(\"../data/\", train=True, download=False, \n",
    "                                             transform=transforms.Compose([transforms.ToTensor()]))\n",
    "dataset2 = torchvision.datasets.MNIST(\"../data/\", train=False, download=False, \n",
    "                                             transform=transforms.Compose([transforms.ToTensor()]))"
   ]
  },
  {
   "cell_type": "code",
   "execution_count": 85,
   "metadata": {
    "ExecuteTime": {
     "end_time": "2019-06-12T12:14:03.063127Z",
     "start_time": "2019-06-12T12:14:02.887539Z"
    }
   },
   "outputs": [],
   "source": [
    "data1, targets1 = np.array(dataset1.data, dtype=np.float32), np.array(dataset1.targets)\n",
    "data2, targets2 = np.array(dataset2.data, dtype=np.float32), np.array(dataset2.targets)\n",
    "\n",
    "data1 /= 255.0\n",
    "data2 /= 255.0\n",
    "\n",
    "merge_data = np.vstack((data1, data2))\n",
    "merge_targets = np.hstack((targets1, targets2))"
   ]
  },
  {
   "cell_type": "code",
   "execution_count": 86,
   "metadata": {
    "ExecuteTime": {
     "end_time": "2019-06-12T12:14:03.621061Z",
     "start_time": "2019-06-12T12:14:03.608102Z"
    }
   },
   "outputs": [
    {
     "name": "stdout",
     "output_type": "stream",
     "text": [
      "(70000, 1, 28, 28)\n",
      "(70000,)\n"
     ]
    }
   ],
   "source": [
    "merge_data = merge_data.reshape(merge_data.shape[0], -1, merge_data.shape[1], merge_data.shape[2])\n",
    "\n",
    "print(merge_data.shape)\n",
    "\n",
    "print(merge_targets.shape)"
   ]
  },
  {
   "cell_type": "code",
   "execution_count": 71,
   "metadata": {
    "ExecuteTime": {
     "end_time": "2019-06-12T11:42:28.224496Z",
     "start_time": "2019-06-12T11:42:27.523382Z"
    },
    "scrolled": false
   },
   "outputs": [
    {
     "data": {
      "text/plain": [
       "(array([0.13092527], dtype=float32), array([0.30844837], dtype=float32))"
      ]
     },
     "execution_count": 71,
     "metadata": {},
     "output_type": "execute_result"
    }
   ],
   "source": [
    "get_mean_std(merge_data, ratio=1)"
   ]
  },
  {
   "cell_type": "markdown",
   "metadata": {},
   "source": [
    "## Create dataset"
   ]
  },
  {
   "cell_type": "code",
   "execution_count": 23,
   "metadata": {
    "ExecuteTime": {
     "end_time": "2019-06-14T09:26:04.396063Z",
     "start_time": "2019-06-14T09:26:04.376976Z"
    }
   },
   "outputs": [],
   "source": [
    "data_dir = \"../data\"\n",
    "dataset_name = \"datasets.hdf5\"\n",
    "ab_path = os.path.join(data_dir, dataset_name)"
   ]
  },
  {
   "cell_type": "code",
   "execution_count": 24,
   "metadata": {
    "ExecuteTime": {
     "end_time": "2019-06-14T09:26:04.842893Z",
     "start_time": "2019-06-14T09:26:04.796076Z"
    }
   },
   "outputs": [],
   "source": [
    "# Image for pytorch Dataset should be (samples, height, width, channels)\n",
    "merge_data = merge_data.transpose((0, 2, 3, 1))"
   ]
  },
  {
   "cell_type": "code",
   "execution_count": 25,
   "metadata": {
    "ExecuteTime": {
     "end_time": "2019-06-14T09:26:05.252554Z",
     "start_time": "2019-06-14T09:26:05.218697Z"
    }
   },
   "outputs": [
    {
     "name": "stdout",
     "output_type": "stream",
     "text": [
      "(70000, 28, 28, 1)\n"
     ]
    }
   ],
   "source": [
    "print(merge_data.shape)"
   ]
  },
  {
   "cell_type": "code",
   "execution_count": 26,
   "metadata": {
    "ExecuteTime": {
     "end_time": "2019-06-14T09:26:25.726050Z",
     "start_time": "2019-06-14T09:26:06.467840Z"
    }
   },
   "outputs": [],
   "source": [
    "with h5py.File(ab_path, \"w\") as f:\n",
    "    grp = f.create_group(\"mnist\")\n",
    "    grp.create_dataset(\"data\", merge_data.shape, dtype=merge_data.dtype)\n",
    "    grp.create_dataset(\"targets\", merge_targets.shape, dtype=merge_targets.dtype)\n",
    "    grp[\"data\"][:,:,:,:] = merge_data\n",
    "    grp[\"targets\"][:] = merge_targets"
   ]
  },
  {
   "cell_type": "code",
   "execution_count": null,
   "metadata": {},
   "outputs": [],
   "source": []
  }
 ],
 "metadata": {
  "kernelspec": {
   "display_name": "Python 3",
   "language": "python",
   "name": "python3"
  },
  "language_info": {
   "codemirror_mode": {
    "name": "ipython",
    "version": 3
   },
   "file_extension": ".py",
   "mimetype": "text/x-python",
   "name": "python",
   "nbconvert_exporter": "python",
   "pygments_lexer": "ipython3",
   "version": "3.6.8"
  }
 },
 "nbformat": 4,
 "nbformat_minor": 2
}
