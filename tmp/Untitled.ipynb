{
 "cells": [
  {
   "cell_type": "code",
   "execution_count": 1,
   "metadata": {},
   "outputs": [
    {
     "name": "stderr",
     "output_type": "stream",
     "text": [
      "/anaconda3/lib/python3.6/site-packages/h5py/__init__.py:36: FutureWarning: Conversion of the second argument of issubdtype from `float` to `np.floating` is deprecated. In future, it will be treated as `np.float64 == np.dtype(float).type`.\n",
      "  from ._conv import register_converters as _register_converters\n",
      "Using TensorFlow backend.\n"
     ]
    }
   ],
   "source": [
    "import numpy as np\n",
    "\n",
    "import keras"
   ]
  },
  {
   "cell_type": "code",
   "execution_count": 36,
   "metadata": {
    "scrolled": true
   },
   "outputs": [],
   "source": [
    "(x_train, y_train), (x_test, y_test) = keras.datasets.mnist.load_data()"
   ]
  },
  {
   "cell_type": "code",
   "execution_count": 37,
   "metadata": {},
   "outputs": [],
   "source": [
    "x_train = x_train.reshape(x_train.shape[0], 1, 28, 28)\n",
    "x_test = x_test.reshape(x_test.shape[0], 1, 28, 28)"
   ]
  },
  {
   "cell_type": "code",
   "execution_count": 39,
   "metadata": {
    "scrolled": true
   },
   "outputs": [],
   "source": [
    "x_train = np.vstack((x_train, x_test))"
   ]
  },
  {
   "cell_type": "code",
   "execution_count": 50,
   "metadata": {},
   "outputs": [],
   "source": [
    "y_true = np.hstack((y_train, y_test))"
   ]
  },
  {
   "cell_type": "code",
   "execution_count": 53,
   "metadata": {},
   "outputs": [],
   "source": [
    "index = np.arange(60000)"
   ]
  },
  {
   "cell_type": "code",
   "execution_count": 56,
   "metadata": {},
   "outputs": [
    {
     "data": {
      "text/plain": [
       "(60000, 1, 28, 28)"
      ]
     },
     "execution_count": 56,
     "metadata": {},
     "output_type": "execute_result"
    }
   ],
   "source": [
    "x_train[index]"
   ]
  },
  {
   "cell_type": "code",
   "execution_count": 57,
   "metadata": {},
   "outputs": [],
   "source": [
    "import keras.backend as K"
   ]
  },
  {
   "cell_type": "code",
   "execution_count": 62,
   "metadata": {
    "scrolled": true
   },
   "outputs": [
    {
     "data": {
      "text/plain": [
       "<tf.Variable 'Variable_2:0' shape=(3, 3) dtype=int16_ref>"
      ]
     },
     "execution_count": 62,
     "metadata": {},
     "output_type": "execute_result"
    }
   ],
   "source": [
    "K.eye(3,5)"
   ]
  },
  {
   "cell_type": "code",
   "execution_count": 65,
   "metadata": {},
   "outputs": [
    {
     "data": {
      "text/plain": [
       "array([[1, 0, 0],\n",
       "       [0, 1, 0],\n",
       "       [0, 0, 1]], dtype=int8)"
      ]
     },
     "execution_count": 65,
     "metadata": {},
     "output_type": "execute_result"
    }
   ],
   "source": [
    "K.eval(K.eye(3,6))"
   ]
  },
  {
   "cell_type": "code",
   "execution_count": 80,
   "metadata": {},
   "outputs": [],
   "source": [
    "import torch.nn as nn"
   ]
  },
  {
   "cell_type": "code",
   "execution_count": 87,
   "metadata": {},
   "outputs": [],
   "source": [
    "a = nn.Linear(100,100)"
   ]
  },
  {
   "cell_type": "code",
   "execution_count": 88,
   "metadata": {
    "scrolled": true
   },
   "outputs": [
    {
     "data": {
      "text/plain": [
       "[Parameter containing:\n",
       " tensor([[-0.0661, -0.0631,  0.0965,  ..., -0.0054,  0.0320, -0.0963],\n",
       "         [-0.0771,  0.0918, -0.0122,  ..., -0.0918, -0.0353,  0.0671],\n",
       "         [-0.0059, -0.0925, -0.0285,  ...,  0.0768,  0.0218,  0.0010],\n",
       "         ...,\n",
       "         [-0.0023,  0.0171, -0.0833,  ...,  0.0004,  0.0294, -0.0884],\n",
       "         [-0.0489,  0.0107, -0.0467,  ...,  0.0317, -0.0525, -0.0988],\n",
       "         [ 0.0417,  0.0150,  0.0692,  ...,  0.0416,  0.0344, -0.0325]],\n",
       "        requires_grad=True), Parameter containing:\n",
       " tensor([ 0.0937,  0.0193,  0.0844,  0.0314,  0.0737,  0.0992,  0.0176,  0.0091,\n",
       "         -0.0488, -0.0232, -0.0443, -0.0589, -0.0732,  0.0004, -0.0835, -0.0544,\n",
       "          0.0869,  0.0147,  0.0171,  0.0216, -0.0529,  0.0787,  0.0881,  0.0793,\n",
       "         -0.0129, -0.0234,  0.0747, -0.0664,  0.0457, -0.0045, -0.0045, -0.0330,\n",
       "          0.0823, -0.0578,  0.0682, -0.0365,  0.0934,  0.0838, -0.0150,  0.0947,\n",
       "         -0.0308, -0.0885,  0.0901,  0.0620,  0.0909, -0.0248, -0.0576,  0.0759,\n",
       "          0.0819,  0.0788, -0.0037, -0.0972, -0.0461,  0.0287, -0.0351,  0.0507,\n",
       "          0.0981,  0.0443,  0.0710, -0.0473, -0.0541, -0.0532, -0.0870, -0.0760,\n",
       "          0.0508,  0.0931,  0.0058,  0.0501, -0.0688, -0.0626, -0.0521, -0.0163,\n",
       "         -0.0352,  0.0107, -0.0851,  0.0172,  0.0224, -0.0471,  0.0090, -0.0444,\n",
       "         -0.0293, -0.0848,  0.0781, -0.0564, -0.0869,  0.0893, -0.0994, -0.0334,\n",
       "         -0.0421,  0.0971, -0.0891, -0.0470,  0.0251,  0.0240, -0.0569, -0.0061,\n",
       "         -0.0049, -0.0330, -0.0928,  0.0962], requires_grad=True)]"
      ]
     },
     "execution_count": 88,
     "metadata": {},
     "output_type": "execute_result"
    }
   ],
   "source": [
    "list(a.parameters())"
   ]
  },
  {
   "cell_type": "code",
   "execution_count": 89,
   "metadata": {},
   "outputs": [
    {
     "data": {
      "text/plain": [
       "tensor([[1., 0., 0.,  ..., 0., 0., 0.],\n",
       "        [0., 1., 0.,  ..., 0., 0., 0.],\n",
       "        [0., 0., 1.,  ..., 0., 0., 0.],\n",
       "        ...,\n",
       "        [0., 0., 0.,  ..., 1., 0., 0.],\n",
       "        [0., 0., 0.,  ..., 0., 1., 0.],\n",
       "        [0., 0., 0.,  ..., 0., 0., 1.]])"
      ]
     },
     "execution_count": 89,
     "metadata": {},
     "output_type": "execute_result"
    }
   ],
   "source": [
    "torch.nn.init.eye_(a.weight.data)"
   ]
  },
  {
   "cell_type": "code",
   "execution_count": 86,
   "metadata": {
    "scrolled": true
   },
   "outputs": [
    {
     "data": {
      "text/plain": [
       "[Parameter containing:\n",
       " tensor([[1., 0., 0.,  ..., 0., 0., 0.],\n",
       "         [0., 1., 0.,  ..., 0., 0., 0.],\n",
       "         [0., 0., 1.,  ..., 0., 0., 0.],\n",
       "         ...,\n",
       "         [0., 0., 0.,  ..., 1., 0., 0.],\n",
       "         [0., 0., 0.,  ..., 0., 1., 0.],\n",
       "         [0., 0., 0.,  ..., 0., 0., 1.]], requires_grad=True),\n",
       " Parameter containing:\n",
       " tensor([ 0.0331,  0.0196, -0.0203,  0.0835, -0.0137,  0.0423, -0.0448, -0.0445,\n",
       "          0.0552, -0.0108,  0.0943,  0.0163,  0.0737,  0.0340,  0.0944,  0.0872,\n",
       "          0.0902,  0.0682, -0.0929,  0.0020,  0.0466, -0.0678, -0.0847,  0.0978,\n",
       "         -0.0559,  0.0640,  0.0960,  0.0839, -0.0763,  0.0233,  0.0085, -0.0759,\n",
       "          0.0361,  0.0576,  0.0897,  0.0181,  0.0934, -0.0382,  0.0219, -0.0699,\n",
       "         -0.0730, -0.0657, -0.0874,  0.0163, -0.0495, -0.0556, -0.0187,  0.0550,\n",
       "         -0.0548,  0.0351, -0.0218, -0.0296,  0.0564,  0.0966,  0.0970, -0.0069,\n",
       "         -0.0442,  0.0734, -0.0521, -0.0023,  0.0879, -0.0067, -0.0461,  0.0474,\n",
       "         -0.0629,  0.0855, -0.0348, -0.0607, -0.0400, -0.0184,  0.0338,  0.0507,\n",
       "          0.0821,  0.0343,  0.0833,  0.0192, -0.0718,  0.0327,  0.0845, -0.0307,\n",
       "         -0.0314, -0.0690,  0.0595, -0.0877,  0.0337,  0.0679, -0.0970, -0.0253,\n",
       "         -0.0856,  0.0834, -0.0875, -0.0633,  0.0752, -0.0111, -0.0709,  0.0270,\n",
       "          0.0750,  0.0390,  0.0292,  0.0251], requires_grad=True)]"
      ]
     },
     "execution_count": 86,
     "metadata": {},
     "output_type": "execute_result"
    }
   ],
   "source": [
    "list(a.parameters())"
   ]
  },
  {
   "cell_type": "code",
   "execution_count": 1,
   "metadata": {},
   "outputs": [],
   "source": [
    "import torch\n",
    "import torchvision\n",
    "import numpy as np\n",
    "import torchvision.transforms as transforms\n",
    "import sys\n",
    "sys.path.append('../src')"
   ]
  },
  {
   "cell_type": "code",
   "execution_count": 4,
   "metadata": {},
   "outputs": [],
   "source": [
    "def gen_mean_std(dataset1, dataset2, ratio=1):\n",
    "    \"\"\"sample 0.1\n",
    "    \"\"\"\n",
    "    dataloader1 = torch.utils.data.DataLoader(dataset1, batch_size=int(len(dataset1)*ratio), shuffle=True, num_workers=10)\n",
    "    train1 = iter(dataloader1).next()[0]\n",
    "    dataloader2 = torch.utils.data.DataLoader(dataset2, batch_size=int(len(dataset2)*ratio), shuffle=True, num_workers=10)\n",
    "    train2 = iter(dataloader2).next()[0]\n",
    "    train = np.vstack((train1.numpy(), train2.numpy()))\n",
    "    mean = np.mean(train, axis=(0,2,3))\n",
    "    std = np.std(train, axis=(0,2,3))\n",
    "    return mean, std"
   ]
  },
  {
   "cell_type": "code",
   "execution_count": 5,
   "metadata": {
    "scrolled": true
   },
   "outputs": [
    {
     "name": "stdout",
     "output_type": "stream",
     "text": [
      "[0.13092537] [0.30844885]\n"
     ]
    }
   ],
   "source": [
    "# mnist\n",
    "train_dataset = torchvision.datasets.MNIST('../data', train=True, download=True, transform=transforms.Compose([transforms.ToTensor()]))\n",
    "val_dataset = torchvision.datasets.MNIST('../data', train=False, download=True, transform=transforms.Compose([transforms.ToTensor()]))\n",
    "mean, std = gen_mean_std(train_dataset, val_dataset)\n",
    "print(mean, std)"
   ]
  },
  {
   "cell_type": "code",
   "execution_count": 8,
   "metadata": {},
   "outputs": [
    {
     "data": {
      "text/plain": [
       "torch.Size([60000, 28, 28])"
      ]
     },
     "execution_count": 8,
     "metadata": {},
     "output_type": "execute_result"
    }
   ],
   "source": [
    "train_dataset.data.shape"
   ]
  },
  {
   "cell_type": "code",
   "execution_count": 9,
   "metadata": {},
   "outputs": [
    {
     "data": {
      "text/plain": [
       "torch.Size([60000])"
      ]
     },
     "execution_count": 9,
     "metadata": {},
     "output_type": "execute_result"
    }
   ],
   "source": [
    "train_dataset.targets.shape"
   ]
  },
  {
   "cell_type": "code",
   "execution_count": 10,
   "metadata": {},
   "outputs": [],
   "source": [
    "a = np.array([1,2,3])"
   ]
  },
  {
   "cell_type": "code",
   "execution_count": 15,
   "metadata": {},
   "outputs": [],
   "source": [
    "b = []"
   ]
  },
  {
   "cell_type": "code",
   "execution_count": 16,
   "metadata": {},
   "outputs": [],
   "source": [
    "b.extend(a)"
   ]
  },
  {
   "cell_type": "code",
   "execution_count": 17,
   "metadata": {},
   "outputs": [
    {
     "data": {
      "text/plain": [
       "[1, 2, 3]"
      ]
     },
     "execution_count": 17,
     "metadata": {},
     "output_type": "execute_result"
    }
   ],
   "source": [
    "b"
   ]
  },
  {
   "cell_type": "code",
   "execution_count": 18,
   "metadata": {},
   "outputs": [
    {
     "data": {
      "text/plain": [
       "list"
      ]
     },
     "execution_count": 18,
     "metadata": {},
     "output_type": "execute_result"
    }
   ],
   "source": []
  },
  {
   "cell_type": "code",
   "execution_count": null,
   "metadata": {},
   "outputs": [],
   "source": []
  }
 ],
 "metadata": {
  "kernelspec": {
   "display_name": "Python 3",
   "language": "python",
   "name": "python3"
  },
  "language_info": {
   "codemirror_mode": {
    "name": "ipython",
    "version": 3
   },
   "file_extension": ".py",
   "mimetype": "text/x-python",
   "name": "python",
   "nbconvert_exporter": "python",
   "pygments_lexer": "ipython3",
   "version": "3.6.5"
  }
 },
 "nbformat": 4,
 "nbformat_minor": 2
}
