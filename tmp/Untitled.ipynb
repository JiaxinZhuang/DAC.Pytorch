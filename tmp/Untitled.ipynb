{
 "cells": [
  {
   "cell_type": "code",
   "execution_count": 4,
   "metadata": {
    "ExecuteTime": {
     "end_time": "2019-06-15T16:16:40.415631Z",
     "start_time": "2019-06-15T16:16:40.413177Z"
    }
   },
   "outputs": [],
   "source": [
    "class My:\n",
    "    def __init__(self, name=\"jiaxin\", value=\"100\"):\n",
    "        self.__dict__.update(locals())\n",
    "        print(self)\n",
    "        print(self.name)\n",
    "        print(self.value)"
   ]
  },
  {
   "cell_type": "code",
   "execution_count": 5,
   "metadata": {
    "ExecuteTime": {
     "end_time": "2019-06-15T16:16:41.034400Z",
     "start_time": "2019-06-15T16:16:41.024131Z"
    }
   },
   "outputs": [
    {
     "name": "stdout",
     "output_type": "stream",
     "text": [
      "<__main__.My object at 0x7fe551efeb00>\n",
      "jiaxin\n",
      "100\n"
     ]
    }
   ],
   "source": [
    "my = My()"
   ]
  },
  {
   "cell_type": "code",
   "execution_count": null,
   "metadata": {},
   "outputs": [],
   "source": []
  }
 ],
 "metadata": {
  "kernelspec": {
   "display_name": "Python 3",
   "language": "python",
   "name": "python3"
  },
  "language_info": {
   "codemirror_mode": {
    "name": "ipython",
    "version": 3
   },
   "file_extension": ".py",
   "mimetype": "text/x-python",
   "name": "python",
   "nbconvert_exporter": "python",
   "pygments_lexer": "ipython3",
   "version": "3.6.8"
  }
 },
 "nbformat": 4,
 "nbformat_minor": 2
}
