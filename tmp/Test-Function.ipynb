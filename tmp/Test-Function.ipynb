{
 "cells": [
  {
   "cell_type": "code",
   "execution_count": 14,
   "metadata": {},
   "outputs": [
    {
     "name": "stdout",
     "output_type": "stream",
     "text": [
      "The autoreload extension is already loaded. To reload it, use:\n",
      "  %reload_ext autoreload\n"
     ]
    }
   ],
   "source": [
    "%load_ext autoreload\n",
    "%autoreload 2\n",
    "\n",
    "import sys\n",
    "sys.path.append(\"../src\")\n",
    "import torch\n",
    "device = torch.device('cuda' if torch.cuda.is_available() else 'cpu')\n",
    "from torchsummary import summary"
   ]
  },
  {
   "cell_type": "code",
   "execution_count": 15,
   "metadata": {},
   "outputs": [],
   "source": [
    "import net"
   ]
  },
  {
   "cell_type": "markdown",
   "metadata": {},
   "source": [
    "## Test mnistNetwork"
   ]
  },
  {
   "cell_type": "code",
   "execution_count": 19,
   "metadata": {},
   "outputs": [],
   "source": [
    "from net import Net"
   ]
  },
  {
   "cell_type": "code",
   "execution_count": 20,
   "metadata": {},
   "outputs": [
    {
     "name": "stdout",
     "output_type": "stream",
     "text": [
      ">> Net: _init_model with MNISTNetwork\n"
     ]
    }
   ],
   "source": [
    "config = dict()\n",
    "config[\"dataset\"] = \"mnist\"\n",
    "net = Net(config)"
   ]
  },
  {
   "cell_type": "code",
   "execution_count": 21,
   "metadata": {
    "scrolled": false
   },
   "outputs": [
    {
     "name": "stdout",
     "output_type": "stream",
     "text": [
      "----------------------------------------------------------------\n",
      "        Layer (type)               Output Shape         Param #\n",
      "================================================================\n",
      "            Conv2d-1           [-1, 64, 26, 26]             640\n",
      "       BatchNorm2d-2           [-1, 64, 26, 26]             128\n",
      "              ReLU-3           [-1, 64, 26, 26]               0\n",
      "            Conv2d-4           [-1, 64, 24, 24]          36,928\n",
      "            Conv2d-5           [-1, 64, 22, 22]          36,928\n",
      "              ReLU-6           [-1, 64, 22, 22]               0\n",
      "            Conv2d-7           [-1, 64, 20, 20]          36,928\n",
      "       BatchNorm2d-8           [-1, 64, 20, 20]             128\n",
      "              ReLU-9           [-1, 64, 20, 20]               0\n",
      "        MaxPool2d-10           [-1, 64, 10, 10]               0\n",
      "      BatchNorm2d-11           [-1, 64, 10, 10]             128\n",
      "           Conv2d-12            [-1, 128, 8, 8]          73,856\n",
      "      BatchNorm2d-13            [-1, 128, 8, 8]             256\n",
      "             ReLU-14            [-1, 128, 8, 8]               0\n",
      "             ReLU-15            [-1, 128, 8, 8]               0\n",
      "           Conv2d-16            [-1, 128, 6, 6]         147,584\n",
      "      BatchNorm2d-17            [-1, 128, 6, 6]             256\n",
      "             ReLU-18            [-1, 128, 6, 6]               0\n",
      "           Conv2d-19            [-1, 128, 4, 4]         147,584\n",
      "      BatchNorm2d-20            [-1, 128, 4, 4]             256\n",
      "             ReLU-21            [-1, 128, 4, 4]               0\n",
      "        MaxPool2d-22            [-1, 128, 2, 2]               0\n",
      "      BatchNorm2d-23            [-1, 128, 2, 2]             256\n",
      "           Conv2d-24             [-1, 10, 2, 2]           1,290\n",
      "      BatchNorm2d-25             [-1, 10, 2, 2]              20\n",
      "             ReLU-26             [-1, 10, 2, 2]               0\n",
      "        AvgPool2d-27             [-1, 10, 1, 1]               0\n",
      "      BatchNorm2d-28             [-1, 10, 1, 1]              20\n",
      "           Linear-29                   [-1, 10]             110\n",
      "      BatchNorm1d-30                   [-1, 10]              20\n",
      "             ReLU-31                   [-1, 10]               0\n",
      "           Linear-32                   [-1, 10]             110\n",
      "      BatchNorm1d-33                   [-1, 10]              20\n",
      "             ReLU-34                   [-1, 10]               0\n",
      "          Softmax-35                   [-1, 10]               0\n",
      "================================================================\n",
      "Total params: 483,446\n",
      "Trainable params: 483,446\n",
      "Non-trainable params: 0\n",
      "----------------------------------------------------------------\n",
      "Input size (MB): 0.00\n",
      "Forward/backward pass size (MB): 2.84\n",
      "Params size (MB): 1.84\n",
      "Estimated Total Size (MB): 4.69\n",
      "----------------------------------------------------------------\n"
     ]
    }
   ],
   "source": [
    "net.print_model((1, 28, 28))"
   ]
  },
  {
   "cell_type": "code",
   "execution_count": null,
   "metadata": {},
   "outputs": [],
   "source": []
  }
 ],
 "metadata": {
  "kernelspec": {
   "display_name": "Python 3",
   "language": "python",
   "name": "python3"
  },
  "language_info": {
   "codemirror_mode": {
    "name": "ipython",
    "version": 3
   },
   "file_extension": ".py",
   "mimetype": "text/x-python",
   "name": "python",
   "nbconvert_exporter": "python",
   "pygments_lexer": "ipython3",
   "version": "3.6.5"
  }
 },
 "nbformat": 4,
 "nbformat_minor": 2
}
