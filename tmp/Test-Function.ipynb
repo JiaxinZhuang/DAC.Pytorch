{
 "cells": [
  {
   "cell_type": "code",
   "execution_count": 8,
   "metadata": {
    "ExecuteTime": {
     "end_time": "2019-06-12T11:12:13.601682Z",
     "start_time": "2019-06-12T11:12:13.575853Z"
    }
   },
   "outputs": [
    {
     "name": "stdout",
     "output_type": "stream",
     "text": [
      "The autoreload extension is already loaded. To reload it, use:\n",
      "  %reload_ext autoreload\n"
     ]
    }
   ],
   "source": [
    "%load_ext autoreload\n",
    "%autoreload 2\n",
    "\n",
    "import sys\n",
    "sys.path.append(\"../src\")\n",
    "import os\n",
    "import torch\n",
    "device = torch.device('cuda' if torch.cuda.is_available() else 'cpu')\n",
    "from torchsummary import summary"
   ]
  },
  {
   "cell_type": "code",
   "execution_count": 2,
   "metadata": {
    "ExecuteTime": {
     "end_time": "2019-06-12T11:09:21.155391Z",
     "start_time": "2019-06-12T11:09:21.127519Z"
    }
   },
   "outputs": [],
   "source": [
    "import net"
   ]
  },
  {
   "cell_type": "markdown",
   "metadata": {},
   "source": [
    "## Test mnistNetwork"
   ]
  },
  {
   "cell_type": "code",
   "execution_count": 11,
   "metadata": {
    "ExecuteTime": {
     "end_time": "2019-06-09T07:27:08.321275Z",
     "start_time": "2019-06-09T07:27:08.311942Z"
    }
   },
   "outputs": [],
   "source": [
    "from net import Net"
   ]
  },
  {
   "cell_type": "code",
   "execution_count": 12,
   "metadata": {
    "ExecuteTime": {
     "end_time": "2019-06-09T07:27:08.717295Z",
     "start_time": "2019-06-09T07:27:08.674985Z"
    }
   },
   "outputs": [
    {
     "name": "stdout",
     "output_type": "stream",
     "text": [
      ">> Net: _init_model with MNISTNetwork\n"
     ]
    }
   ],
   "source": [
    "config = dict()\n",
    "config[\"dataset\"] = \"mnist\"\n",
    "net = Net(config)"
   ]
  },
  {
   "cell_type": "code",
   "execution_count": 13,
   "metadata": {
    "ExecuteTime": {
     "end_time": "2019-06-09T07:27:09.184987Z",
     "start_time": "2019-06-09T07:27:09.165249Z"
    },
    "scrolled": true
   },
   "outputs": [
    {
     "name": "stdout",
     "output_type": "stream",
     "text": [
      "----------------------------------------------------------------\n",
      "        Layer (type)               Output Shape         Param #\n",
      "================================================================\n",
      "            Conv2d-1           [-1, 64, 26, 26]             640\n",
      "       BatchNorm2d-2           [-1, 64, 26, 26]             128\n",
      "              ReLU-3           [-1, 64, 26, 26]               0\n",
      "            Conv2d-4           [-1, 64, 24, 24]          36,928\n",
      "       BatchNorm2d-5           [-1, 64, 24, 24]             128\n",
      "              ReLU-6           [-1, 64, 24, 24]               0\n",
      "            Conv2d-7           [-1, 64, 22, 22]          36,928\n",
      "       BatchNorm2d-8           [-1, 64, 22, 22]             128\n",
      "              ReLU-9           [-1, 64, 22, 22]               0\n",
      "        MaxPool2d-10           [-1, 64, 11, 11]               0\n",
      "      BatchNorm2d-11           [-1, 64, 11, 11]             128\n",
      "           Conv2d-12            [-1, 128, 9, 9]          73,856\n",
      "      BatchNorm2d-13            [-1, 128, 9, 9]             256\n",
      "             ReLU-14            [-1, 128, 9, 9]               0\n",
      "           Conv2d-15            [-1, 128, 7, 7]         147,584\n",
      "      BatchNorm2d-16            [-1, 128, 7, 7]             256\n",
      "             ReLU-17            [-1, 128, 7, 7]               0\n",
      "           Conv2d-18            [-1, 128, 5, 5]         147,584\n",
      "      BatchNorm2d-19            [-1, 128, 5, 5]             256\n",
      "             ReLU-20            [-1, 128, 5, 5]               0\n",
      "        MaxPool2d-21            [-1, 128, 2, 2]               0\n",
      "      BatchNorm2d-22            [-1, 128, 2, 2]             256\n",
      "           Conv2d-23             [-1, 10, 2, 2]           1,290\n",
      "      BatchNorm2d-24             [-1, 10, 2, 2]              20\n",
      "             ReLU-25             [-1, 10, 2, 2]               0\n",
      "        AvgPool2d-26             [-1, 10, 1, 1]               0\n",
      "      BatchNorm2d-27             [-1, 10, 1, 1]              20\n",
      "           Linear-28                   [-1, 10]             110\n",
      "      BatchNorm1d-29                   [-1, 10]              20\n",
      "             ReLU-30                   [-1, 10]               0\n",
      "           Linear-31                   [-1, 10]             110\n",
      "      BatchNorm1d-32                   [-1, 10]              20\n",
      "             ReLU-33                   [-1, 10]               0\n",
      "          Softmax-34                   [-1, 10]               0\n",
      "================================================================\n",
      "Total params: 446,646\n",
      "Trainable params: 446,646\n",
      "Non-trainable params: 0\n",
      "----------------------------------------------------------------\n",
      "Input size (MB): 0.00\n",
      "Forward/backward pass size (MB): 3.12\n",
      "Params size (MB): 1.70\n",
      "Estimated Total Size (MB): 4.83\n",
      "----------------------------------------------------------------\n"
     ]
    }
   ],
   "source": [
    "net.print_model((1, 28, 28))"
   ]
  },
  {
   "cell_type": "markdown",
   "metadata": {},
   "source": [
    "## Test read_hdf"
   ]
  },
  {
   "cell_type": "code",
   "execution_count": 47,
   "metadata": {
    "ExecuteTime": {
     "end_time": "2019-06-12T11:25:38.648413Z",
     "start_time": "2019-06-12T11:25:38.605733Z"
    }
   },
   "outputs": [],
   "source": [
    "from dataset import Dataset"
   ]
  },
  {
   "cell_type": "code",
   "execution_count": 48,
   "metadata": {
    "ExecuteTime": {
     "end_time": "2019-06-12T11:25:38.878624Z",
     "start_time": "2019-06-12T11:25:38.851299Z"
    }
   },
   "outputs": [],
   "source": [
    "config = dict()\n",
    "config[\"data_dir\"] = \"../data\"\n",
    "config[\"dataset\"] = \"datasets.hdf5\"\n",
    "\n",
    "ab_path = os.path.join(config[\"data_dir\"], config[\"dataset\"])\n",
    "dataset_ = Dataset(config)"
   ]
  },
  {
   "cell_type": "code",
   "execution_count": 49,
   "metadata": {
    "ExecuteTime": {
     "end_time": "2019-06-12T11:25:39.166986Z",
     "start_time": "2019-06-12T11:25:39.022538Z"
    },
    "scrolled": true
   },
   "outputs": [
    {
     "name": "stdout",
     "output_type": "stream",
     "text": [
      "float32\n",
      ">> Read datasets from ../data/datasets.hdf5\n",
      ">> It has 70000 samples with channels:28, height:28, width:1\n",
      ">> Function: read_hdf costs 0.1120s\n"
     ]
    }
   ],
   "source": [
    "data, targets = dataset_.read_hdf(ab_path, \"mnist\")"
   ]
  },
  {
   "cell_type": "code",
   "execution_count": 52,
   "metadata": {
    "ExecuteTime": {
     "end_time": "2019-06-12T11:30:49.574285Z",
     "start_time": "2019-06-12T11:30:49.539653Z"
    }
   },
   "outputs": [
    {
     "data": {
      "text/plain": [
       "(70000, 28, 1, 28)"
      ]
     },
     "execution_count": 52,
     "metadata": {},
     "output_type": "execute_result"
    }
   ],
   "source": [
    "data.shape"
   ]
  },
  {
   "cell_type": "code",
   "execution_count": 53,
   "metadata": {
    "ExecuteTime": {
     "end_time": "2019-06-12T11:30:54.704935Z",
     "start_time": "2019-06-12T11:30:54.693442Z"
    }
   },
   "outputs": [
    {
     "data": {
      "text/plain": [
       "(70000,)"
      ]
     },
     "execution_count": 53,
     "metadata": {},
     "output_type": "execute_result"
    }
   ],
   "source": [
    "targets.shape"
   ]
  },
  {
   "cell_type": "code",
   "execution_count": null,
   "metadata": {},
   "outputs": [],
   "source": []
  }
 ],
 "metadata": {
  "kernelspec": {
   "display_name": "Python 3",
   "language": "python",
   "name": "python3"
  },
  "language_info": {
   "codemirror_mode": {
    "name": "ipython",
    "version": 3
   },
   "file_extension": ".py",
   "mimetype": "text/x-python",
   "name": "python",
   "nbconvert_exporter": "python",
   "pygments_lexer": "ipython3",
   "version": "3.6.8"
  }
 },
 "nbformat": 4,
 "nbformat_minor": 2
}
