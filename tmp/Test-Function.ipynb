{
 "cells": [
  {
   "cell_type": "code",
   "execution_count": 1,
   "metadata": {
    "ExecuteTime": {
     "end_time": "2019-05-31T11:27:11.443856Z",
     "start_time": "2019-05-31T11:27:11.178831Z"
    }
   },
   "outputs": [],
   "source": [
    "%load_ext autoreload\n",
    "%autoreload 2\n",
    "\n",
    "import torch \n",
    "import torchvision\n",
    "import sys\n",
    "sys.path.append(\"../src\")"
   ]
  },
  {
   "cell_type": "code",
   "execution_count": 2,
   "metadata": {
    "ExecuteTime": {
     "end_time": "2019-05-31T11:27:11.648918Z",
     "start_time": "2019-05-31T11:27:11.582581Z"
    },
    "scrolled": true
   },
   "outputs": [
    {
     "data": {
      "text/plain": [
       "tensor([[0.0703, 0.0896, 0.0703, 0.0703, 0.0764, 0.0703, 0.0703, 0.0703, 0.2065,\n",
       "         0.2058],\n",
       "        [0.0951, 0.1047, 0.0954, 0.1033, 0.0951, 0.0983, 0.0951, 0.1010, 0.1169,\n",
       "         0.0951],\n",
       "        [0.0864, 0.0864, 0.1709, 0.0864, 0.0864, 0.0928, 0.0864, 0.1318, 0.0864,\n",
       "         0.0864],\n",
       "        [0.1087, 0.0940, 0.1315, 0.0940, 0.0996, 0.0963, 0.0940, 0.0940, 0.0940,\n",
       "         0.0940],\n",
       "        [0.0850, 0.0850, 0.1799, 0.0859, 0.0850, 0.0913, 0.0850, 0.1326, 0.0850,\n",
       "         0.0850],\n",
       "        [0.2364, 0.0615, 0.0565, 0.0565, 0.1053, 0.0565, 0.2248, 0.0565, 0.0565,\n",
       "         0.0893],\n",
       "        [0.0860, 0.0860, 0.1756, 0.0860, 0.0860, 0.0927, 0.0860, 0.1299, 0.0860,\n",
       "         0.0860],\n",
       "        [0.0876, 0.0876, 0.1800, 0.0876, 0.0876, 0.0943, 0.0876, 0.1126, 0.0876,\n",
       "         0.0876],\n",
       "        [0.0861, 0.0861, 0.1707, 0.0861, 0.0861, 0.0928, 0.0861, 0.1337, 0.0861,\n",
       "         0.0861],\n",
       "        [0.2723, 0.0541, 0.0541, 0.0541, 0.1191, 0.0541, 0.1476, 0.0541, 0.0541,\n",
       "         0.1365],\n",
       "        [0.1123, 0.0871, 0.0871, 0.0871, 0.0972, 0.0871, 0.1073, 0.0871, 0.0963,\n",
       "         0.1513],\n",
       "        [0.0924, 0.0924, 0.0924, 0.0924, 0.0924, 0.0970, 0.0924, 0.1641, 0.0924,\n",
       "         0.0924],\n",
       "        [0.1086, 0.0919, 0.0811, 0.0811, 0.1030, 0.0811, 0.0991, 0.0811, 0.1258,\n",
       "         0.1471],\n",
       "        [0.0517, 0.1602, 0.0517, 0.0933, 0.0517, 0.0517, 0.1993, 0.0830, 0.0734,\n",
       "         0.1840],\n",
       "        [0.0781, 0.1233, 0.0781, 0.1021, 0.0781, 0.0781, 0.1213, 0.0811, 0.1148,\n",
       "         0.1448],\n",
       "        [0.0801, 0.0801, 0.2335, 0.0932, 0.0801, 0.0831, 0.0801, 0.1096, 0.0801,\n",
       "         0.0801]], grad_fn=<SoftmaxBackward>)"
      ]
     },
     "execution_count": 2,
     "metadata": {},
     "output_type": "execute_result"
    }
   ],
   "source": [
    "from net import MNISTNetwork\n",
    "\n",
    "config = dict()\n",
    "\n",
    "mnist_net = MNISTNetwork(config)\n",
    "\n",
    "inputs = torch.rand(16, 3, 28, 28)\n",
    "\n",
    "out = mnist_net(inputs)\n",
    "\n",
    "out"
   ]
  },
  {
   "cell_type": "code",
   "execution_count": 18,
   "metadata": {
    "ExecuteTime": {
     "end_time": "2019-05-31T13:33:43.225944Z",
     "start_time": "2019-05-31T13:33:43.214832Z"
    }
   },
   "outputs": [],
   "source": [
    "a = torch.rand(3,4)"
   ]
  },
  {
   "cell_type": "code",
   "execution_count": 23,
   "metadata": {
    "ExecuteTime": {
     "end_time": "2019-05-31T13:39:27.450080Z",
     "start_time": "2019-05-31T13:39:27.439313Z"
    }
   },
   "outputs": [],
   "source": [
    "input1 = torch.randn(100, 128)"
   ]
  },
  {
   "cell_type": "code",
   "execution_count": 24,
   "metadata": {
    "ExecuteTime": {
     "end_time": "2019-05-31T13:39:38.199825Z",
     "start_time": "2019-05-31T13:39:38.185190Z"
    }
   },
   "outputs": [],
   "source": [
    "input2 = torch.randn(100, 128)"
   ]
  },
  {
   "cell_type": "code",
   "execution_count": 25,
   "metadata": {
    "ExecuteTime": {
     "end_time": "2019-05-31T13:39:43.100751Z",
     "start_time": "2019-05-31T13:39:43.075731Z"
    }
   },
   "outputs": [
    {
     "data": {
      "text/plain": [
       "(tensor([[-0.6344,  0.3010, -0.8940,  ...,  0.4068, -0.4168, -1.7257],\n",
       "         [ 0.5368, -1.1657, -1.0311,  ..., -0.5027,  0.7333, -0.1307],\n",
       "         [ 0.2093,  1.3337, -1.3701,  ..., -0.7574,  1.7979,  0.0723],\n",
       "         ...,\n",
       "         [-1.5505,  1.7539,  0.6036,  ...,  0.4396, -0.7426, -0.3060],\n",
       "         [-0.7444, -0.1038, -0.7774,  ..., -2.6107,  1.3335, -1.1474],\n",
       "         [-0.5113, -0.7172, -2.3321,  ...,  1.2152,  0.8357, -1.4351]]),\n",
       " tensor([[ 0.9374, -1.3435,  0.5950,  ...,  0.5538,  1.8787,  1.5545],\n",
       "         [ 0.4798, -1.1285, -1.8302,  ..., -0.7636, -1.3410,  1.1282],\n",
       "         [-0.0301, -0.9640,  0.8616,  ...,  0.4630, -1.2327, -0.0357],\n",
       "         ...,\n",
       "         [-0.8278,  1.2640,  1.1891,  ...,  1.5675,  0.2623,  1.0484],\n",
       "         [ 1.1806,  0.4437, -0.8227,  ..., -0.4222,  0.4586,  0.2119],\n",
       "         [-0.0357,  1.9512, -0.0287,  ..., -0.5760,  1.7374, -0.0636]]))"
      ]
     },
     "execution_count": 25,
     "metadata": {},
     "output_type": "execute_result"
    }
   ],
   "source": [
    "input1, input2"
   ]
  },
  {
   "cell_type": "code",
   "execution_count": 41,
   "metadata": {
    "ExecuteTime": {
     "end_time": "2019-05-31T14:05:24.094864Z",
     "start_time": "2019-05-31T14:05:24.081495Z"
    }
   },
   "outputs": [
    {
     "data": {
      "text/plain": [
       "(torch.Size([100, 128]), torch.Size([100, 128]))"
      ]
     },
     "execution_count": 41,
     "metadata": {},
     "output_type": "execute_result"
    }
   ],
   "source": [
    "input1.shape, input2.shape"
   ]
  },
  {
   "cell_type": "code",
   "execution_count": 39,
   "metadata": {
    "ExecuteTime": {
     "end_time": "2019-05-31T14:04:58.664932Z",
     "start_time": "2019-05-31T14:04:58.656123Z"
    }
   },
   "outputs": [],
   "source": [
    "output = torch.nn.functional.cosine_similarity(input1, input2,dim=1, eps=1e-6)"
   ]
  },
  {
   "cell_type": "code",
   "execution_count": 40,
   "metadata": {
    "ExecuteTime": {
     "end_time": "2019-05-31T14:05:03.377991Z",
     "start_time": "2019-05-31T14:05:03.369078Z"
    }
   },
   "outputs": [
    {
     "data": {
      "text/plain": [
       "torch.Size([100])"
      ]
     },
     "execution_count": 40,
     "metadata": {},
     "output_type": "execute_result"
    }
   ],
   "source": [
    "output.shape"
   ]
  },
  {
   "cell_type": "code",
   "execution_count": 42,
   "metadata": {
    "ExecuteTime": {
     "end_time": "2019-05-31T14:05:44.467414Z",
     "start_time": "2019-05-31T14:05:44.456144Z"
    },
    "scrolled": true
   },
   "outputs": [
    {
     "data": {
      "text/plain": [
       "tensor(-0.1205)"
      ]
     },
     "execution_count": 42,
     "metadata": {},
     "output_type": "execute_result"
    }
   ],
   "source": [
    "output[0]"
   ]
  },
  {
   "cell_type": "code",
   "execution_count": 35,
   "metadata": {
    "ExecuteTime": {
     "end_time": "2019-05-31T13:41:02.800846Z",
     "start_time": "2019-05-31T13:41:02.782898Z"
    }
   },
   "outputs": [
    {
     "data": {
      "text/plain": [
       "tensor([0, 1, 0, 1, 1, 0, 0, 0, 1, 1, 0, 1, 0, 1, 1, 0, 0, 0, 1, 1, 0, 1, 1, 0,\n",
       "        1, 0, 0, 0, 0, 0, 1, 0, 1, 1, 1, 0, 1, 1, 1, 1, 0, 0, 1, 1, 0, 1, 1, 0,\n",
       "        0, 0, 0, 0, 0, 0, 1, 1, 0, 1, 1, 1, 1, 0, 0, 1, 0, 0, 1, 0, 0, 0, 1, 0,\n",
       "        1, 1, 0, 1, 1, 0, 1, 1, 0, 0, 1, 0, 1, 1, 0, 1, 0, 1, 1, 1, 0, 1, 0, 1,\n",
       "        0, 1, 1, 1])"
      ]
     },
     "execution_count": 35,
     "metadata": {},
     "output_type": "execute_result"
    }
   ],
   "source": [
    "torch.where(output > 0, torch.tensor(1), torch.tensor(0))"
   ]
  },
  {
   "cell_type": "code",
   "execution_count": null,
   "metadata": {},
   "outputs": [],
   "source": []
  }
 ],
 "metadata": {
  "kernelspec": {
   "display_name": "Python 3",
   "language": "python",
   "name": "python3"
  },
  "language_info": {
   "codemirror_mode": {
    "name": "ipython",
    "version": 3
   },
   "file_extension": ".py",
   "mimetype": "text/x-python",
   "name": "python",
   "nbconvert_exporter": "python",
   "pygments_lexer": "ipython3",
   "version": "3.6.8"
  }
 },
 "nbformat": 4,
 "nbformat_minor": 2
}
