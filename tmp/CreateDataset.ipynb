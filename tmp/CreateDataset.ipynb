{
 "cells": [
  {
   "cell_type": "code",
   "execution_count": 1,
   "metadata": {
    "ExecuteTime": {
     "end_time": "2019-06-18T12:31:14.853851Z",
     "start_time": "2019-06-18T12:31:13.540461Z"
    },
    "scrolled": true
   },
   "outputs": [
    {
     "name": "stderr",
     "output_type": "stream",
     "text": [
      "Using TensorFlow backend.\n"
     ]
    }
   ],
   "source": [
    "%load_ext autoreload\n",
    "%autoreload 2\n",
    "\n",
    "import sys\n",
    "sys.path.append(\"../src\")\n",
    "import os\n",
    "import torch\n",
    "import torchvision \n",
    "import h5py\n",
    "import torchvision.transforms as transforms\n",
    "import numpy as np\n",
    "import keras\n",
    "\n",
    "from dataset import get_mean_std\n",
    "\n",
    "from keras.datasets import mnist, cifar10"
   ]
  },
  {
   "cell_type": "code",
   "execution_count": 2,
   "metadata": {
    "ExecuteTime": {
     "end_time": "2019-06-17T07:15:54.998791Z",
     "start_time": "2019-06-17T07:15:54.734049Z"
    }
   },
   "outputs": [
    {
     "name": "stdout",
     "output_type": "stream",
     "text": [
      "(60000, 28, 28) (60000,)\n",
      "(10000, 28, 28) (10000,)\n"
     ]
    }
   ],
   "source": [
    "(X_train, y_train), (X_test, y_test) = mnist.load_data()\n",
    "print(X_train.shape, y_train.shape)\n",
    "print(X_test.shape, y_test.shape)"
   ]
  },
  {
   "cell_type": "code",
   "execution_count": 3,
   "metadata": {
    "ExecuteTime": {
     "end_time": "2019-06-17T07:15:57.928949Z",
     "start_time": "2019-06-17T07:15:57.741459Z"
    },
    "scrolled": true
   },
   "outputs": [],
   "source": [
    "(X_train, y_train), (X_test, y_test) = cifar10.load_data() #cifar10"
   ]
  },
  {
   "cell_type": "code",
   "execution_count": 4,
   "metadata": {
    "ExecuteTime": {
     "end_time": "2019-06-17T07:15:59.163003Z",
     "start_time": "2019-06-17T07:15:59.145724Z"
    }
   },
   "outputs": [
    {
     "name": "stdout",
     "output_type": "stream",
     "text": [
      "(50000, 32, 32, 3) (50000, 1)\n",
      "(10000, 32, 32, 3) (10000, 1)\n"
     ]
    }
   ],
   "source": [
    "print(X_train.shape, y_train.shape)\n",
    "print(X_test.shape, y_test.shape)"
   ]
  },
  {
   "cell_type": "code",
   "execution_count": 6,
   "metadata": {
    "ExecuteTime": {
     "end_time": "2019-06-17T07:16:06.438331Z",
     "start_time": "2019-06-17T07:16:05.749588Z"
    }
   },
   "outputs": [],
   "source": [
    "# img_channels, img_rows, img_cols = 1, 28, 28 # mnist\n",
    "img_channels, img_rows, img_cols = 3, 32, 32 #cifar\n",
    "X_train = X_train.reshape(X_train.shape[0], img_channels, img_rows, img_cols)\n",
    "X_test = X_test.reshape(X_test.shape[0], img_channels, img_rows, img_cols)\n",
    "X_train = X_train.astype('float32')\n",
    "X_test = X_test.astype('float32')\n",
    "X_train /= 255.\n",
    "X_test /= 255.\n",
    "y_train = y_train.reshape(y_train.shape[0])\n",
    "y_test = y_test.reshape(y_test.shape[0])\n",
    "X_train = np.vstack((X_train,X_test))\n",
    "y_true = np.hstack((y_train,y_test))\n",
    "y_true = y_true.astype('int64')"
   ]
  },
  {
   "cell_type": "code",
   "execution_count": 7,
   "metadata": {
    "ExecuteTime": {
     "end_time": "2019-06-17T07:16:07.618212Z",
     "start_time": "2019-06-17T07:16:07.600257Z"
    }
   },
   "outputs": [
    {
     "name": "stdout",
     "output_type": "stream",
     "text": [
      "(60000, 3, 32, 32)\n",
      "(60000,)\n"
     ]
    }
   ],
   "source": [
    "print(X_train.shape)\n",
    "print(y_true.shape)\n",
    "merge_data = X_train\n",
    "merge_targets = y_true"
   ]
  },
  {
   "cell_type": "code",
   "execution_count": 84,
   "metadata": {
    "ExecuteTime": {
     "end_time": "2019-06-12T12:14:02.724397Z",
     "start_time": "2019-06-12T12:14:02.679333Z"
    }
   },
   "outputs": [],
   "source": [
    "dataset1 = torchvision.datasets.MNIST(\"../data/\", train=True, download=False, \n",
    "                                             transform=transforms.Compose([transforms.ToTensor()]))\n",
    "dataset2 = torchvision.datasets.MNIST(\"../data/\", train=False, download=False, \n",
    "                                             transform=transforms.Compose([transforms.ToTensor()]))"
   ]
  },
  {
   "cell_type": "code",
   "execution_count": 85,
   "metadata": {
    "ExecuteTime": {
     "end_time": "2019-06-12T12:14:03.063127Z",
     "start_time": "2019-06-12T12:14:02.887539Z"
    }
   },
   "outputs": [],
   "source": [
    "data1, targets1 = np.array(dataset1.data, dtype=np.float32), np.array(dataset1.targets)\n",
    "data2, targets2 = np.array(dataset2.data, dtype=np.float32), np.array(dataset2.targets)\n",
    "\n",
    "data1 /= 255.0\n",
    "data2 /= 255.0\n",
    "\n",
    "merge_data = np.vstack((data1, data2))\n",
    "merge_targets = np.hstack((targets1, targets2))"
   ]
  },
  {
   "cell_type": "code",
   "execution_count": 14,
   "metadata": {
    "ExecuteTime": {
     "end_time": "2019-06-17T07:15:11.312386Z",
     "start_time": "2019-06-17T07:15:11.288541Z"
    }
   },
   "outputs": [
    {
     "name": "stdout",
     "output_type": "stream",
     "text": [
      "(60000, 32, 3, 32)\n",
      "(60000,)\n"
     ]
    }
   ],
   "source": [
    "merge_data = merge_data.reshape(merge_data.shape[0], -1, merge_data.shape[1], merge_data.shape[2])\n",
    "\n",
    "print(merge_data.shape)\n",
    "\n",
    "print(merge_targets.shape)"
   ]
  },
  {
   "cell_type": "code",
   "execution_count": 8,
   "metadata": {
    "ExecuteTime": {
     "end_time": "2019-06-17T07:16:12.846985Z",
     "start_time": "2019-06-17T07:16:11.652907Z"
    },
    "scrolled": false
   },
   "outputs": [
    {
     "data": {
      "text/plain": [
       "(array([0.50764906, 0.46386194, 0.45018676], dtype=float32),\n",
       " array([0.26785395, 0.24093068, 0.24120948], dtype=float32))"
      ]
     },
     "execution_count": 8,
     "metadata": {},
     "output_type": "execute_result"
    }
   ],
   "source": [
    "get_mean_std(merge_data, ratio=1)"
   ]
  },
  {
   "cell_type": "markdown",
   "metadata": {},
   "source": [
    "## Create dataset"
   ]
  },
  {
   "cell_type": "code",
   "execution_count": 9,
   "metadata": {
    "ExecuteTime": {
     "end_time": "2019-06-17T07:20:10.273369Z",
     "start_time": "2019-06-17T07:20:10.242044Z"
    }
   },
   "outputs": [],
   "source": [
    "data_dir = \"../data\"\n",
    "dataset_name = \"datasets.hdf5\"\n",
    "ab_path = os.path.join(data_dir, dataset_name)"
   ]
  },
  {
   "cell_type": "code",
   "execution_count": 10,
   "metadata": {
    "ExecuteTime": {
     "end_time": "2019-06-17T07:20:14.902138Z",
     "start_time": "2019-06-17T07:20:14.885950Z"
    }
   },
   "outputs": [],
   "source": [
    "# Image for pytorch Dataset should be (samples, height, width, channels)\n",
    "merge_data = merge_data.transpose((0, 2, 3, 1))"
   ]
  },
  {
   "cell_type": "code",
   "execution_count": 11,
   "metadata": {
    "ExecuteTime": {
     "end_time": "2019-06-17T07:20:16.050172Z",
     "start_time": "2019-06-17T07:20:16.027990Z"
    }
   },
   "outputs": [
    {
     "name": "stdout",
     "output_type": "stream",
     "text": [
      "(60000, 32, 32, 3)\n"
     ]
    }
   ],
   "source": [
    "print(merge_data.shape)"
   ]
  },
  {
   "cell_type": "code",
   "execution_count": 12,
   "metadata": {
    "ExecuteTime": {
     "end_time": "2019-06-17T07:21:34.337984Z",
     "start_time": "2019-06-17T07:20:29.950037Z"
    }
   },
   "outputs": [],
   "source": [
    "with h5py.File(ab_path, \"w\") as f:\n",
    "#     grp = f.create_group(\"mnist\")\n",
    "    grp = f.create_group(\"cifar10\")\n",
    "    grp.create_dataset(\"data\", merge_data.shape, dtype=merge_data.dtype)\n",
    "    grp.create_dataset(\"targets\", merge_targets.shape, dtype=merge_targets.dtype)\n",
    "    grp[\"data\"][:,:,:,:] = merge_data\n",
    "    grp[\"targets\"][:] = merge_targets"
   ]
  }
 ],
 "metadata": {
  "kernelspec": {
   "display_name": "Python 3",
   "language": "python",
   "name": "python3"
  },
  "language_info": {
   "codemirror_mode": {
    "name": "ipython",
    "version": 3
   },
   "file_extension": ".py",
   "mimetype": "text/x-python",
   "name": "python",
   "nbconvert_exporter": "python",
   "pygments_lexer": "ipython3",
   "version": "3.6.8"
  }
 },
 "nbformat": 4,
 "nbformat_minor": 2
}
